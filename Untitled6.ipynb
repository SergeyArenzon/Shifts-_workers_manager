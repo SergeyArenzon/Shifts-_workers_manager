{
 "cells": [
  {
   "cell_type": "code",
   "execution_count": 72,
   "metadata": {},
   "outputs": [
    {
     "name": "stdout",
     "output_type": "stream",
     "text": [
      "a moves from shift 1 to 3\n",
      "c moves from shift 3 to 1\n"
     ]
    }
   ],
   "source": [
    "import networkx as nx\n",
    "\n",
    "\n",
    "class Worker:\n",
    "    def __init__(self, name, preferences, current_shift):\n",
    "        self.name = name\n",
    "        self.preferences = preferences\n",
    "        self.current_shift = current_shift\n",
    "        \n",
    "        \n",
    "\n",
    "        \n",
    "\n",
    "# buildG moves from workers:list to G:networkx  \n",
    "def buildG(workers:list):\n",
    "    G = nx.Graph()   \n",
    "    for worker in workers:\n",
    "        for shift in worker.preferences:\n",
    "            G.add_edge(worker.name, shift)\n",
    "            \n",
    "        G.add_edge(worker.current_shift, worker.name)\n",
    "        \n",
    "    return G\n",
    "        \n",
    "        \n",
    "        \n",
    "def exchange_shifts(workers:list):\n",
    "    \n",
    "    # flag checking for cycle existence\n",
    "    flag = True\n",
    "    \n",
    "    G = buildG(workers)\n",
    "    \n",
    "    #  names dict contains {worker name, worker current_shift }\n",
    "    names = {}\n",
    "    for worker in workers:\n",
    "        names[worker.name] = worker.current_shift\n",
    "    \n",
    "    \n",
    "    \n",
    "    while flag:\n",
    "        try:\n",
    "            # cycle return cycle edges path\n",
    "            cycle = list(nx.find_cycle(G, orientation='original'))\n",
    "\n",
    "            for edge in cycle: \n",
    "                if(edge[0] in names):\n",
    "                    print('{} moves from shift {} to {}'.format(edge[0], \n",
    "                    names[edge[0]], edge[1]))\n",
    "                    G.remove_node(edge[0])\n",
    "                    G.remove_node(edge[1])\n",
    "\n",
    "        except nx.NetworkXNoCycle: \n",
    "            flag = False\n",
    "\n",
    "# ----------------------------         \n",
    "            \n",
    "    \n",
    "# Worker(name, preferences:list, current_shift)    \n",
    "a = Worker(\"a\",[\"3\"],\"1\")\n",
    "b = Worker(\"b\",[\"1\",\"2\",\"4\"],\"2\")\n",
    "c = Worker(\"c\",[\"1\"],\"3\")\n",
    "d = Worker(\"d\",[\"3\",\"4\"],\"4\")\n",
    "workers_list = [a,b,c,d]    \n",
    "\n",
    "exchange_shifts(workers_list)   "
   ]
  },
  {
   "cell_type": "code",
   "execution_count": null,
   "metadata": {},
   "outputs": [],
   "source": []
  }
 ],
 "metadata": {
  "kernelspec": {
   "display_name": "Python 3",
   "language": "python",
   "name": "python3"
  },
  "language_info": {
   "codemirror_mode": {
    "name": "ipython",
    "version": 3
   },
   "file_extension": ".py",
   "mimetype": "text/x-python",
   "name": "python",
   "nbconvert_exporter": "python",
   "pygments_lexer": "ipython3",
   "version": "3.7.5"
  }
 },
 "nbformat": 4,
 "nbformat_minor": 2
}
